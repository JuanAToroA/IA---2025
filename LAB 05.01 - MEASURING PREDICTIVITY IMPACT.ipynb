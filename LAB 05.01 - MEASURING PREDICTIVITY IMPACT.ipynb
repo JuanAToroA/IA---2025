{
  "cells": [
    {
      "cell_type": "markdown",
      "metadata": {
        "id": "kdxynT-vMY-J"
      },
      "source": [
        "# LAB 05.01 - Predictions impact"
      ]
    },
    {
      "cell_type": "code",
      "execution_count": 1,
      "metadata": {
        "colab": {
          "base_uri": "https://localhost:8080/",
          "height": 76
        },
        "id": "kd_E7ftLMY-L",
        "outputId": "c8e127e8-f661-41d4-bb74-2f213f8198b9"
      },
      "outputs": [
        {
          "output_type": "display_data",
          "data": {
            "text/plain": [
              "<IPython.core.display.HTML object>"
            ],
            "text/html": [
              "\n",
              "<meta name=\"google-signin-client_id\"\n",
              "      content=\"461673936472-kdjosv61up3ac1ajeuq6qqu72upilmls.apps.googleusercontent.com\"/>\n",
              "<script src=\"https://apis.google.com/js/client:platform.js?onload=google_button_start\"></script>\n",
              "    "
            ]
          },
          "metadata": {}
        },
        {
          "output_type": "stream",
          "name": "stdout",
          "text": [
            "replicating local resources\n"
          ]
        },
        {
          "output_type": "execute_result",
          "data": {
            "text/plain": [
              "<IPython.core.display.HTML object>"
            ],
            "text/html": [
              "<h3>See <a href='https://m5knaekxo6.execute-api.us-west-2.amazonaws.com/dev-v0001/rlxmooc/web/login' target='_blank'>my courses and progress</a></h2>"
            ]
          },
          "metadata": {},
          "execution_count": 1
        }
      ],
      "source": [
        "!wget --no-cache -O init.py -q https://raw.githubusercontent.com/rramosp/ai4eng.v1/main/content/init.py\n",
        "import init; init.init(force_download=False); init.get_weblink()\n"
      ]
    },
    {
      "cell_type": "code",
      "execution_count": 23,
      "metadata": {
        "colab": {
          "base_uri": "https://localhost:8080/",
          "height": 74,
          "referenced_widgets": [
            "8aa3a81dfc4a4d8c9f693a5831941886",
            "e8e7f3ad6cc341afa53d5f0abbe29d89",
            "b70db13f7c344f0fa24baa1450b4ad0f",
            "11326862e34843b7a6ac014c1ef2c308",
            "8a724d2dc55242698cfc5d3698c6a860",
            "5ffb4eaecbef442db47645833f8972ce",
            "ff19828c1e324ea48511c53ff482a3e0",
            "eb9ef7d994d0486fbd9ebcdfa3cf12fa",
            "c2a68cb2fffa4ed09f21e77ffde66ed9",
            "c2b1bc1a03a84ea29d01cb00c7f2d953",
            "389bb07ffdad4b34ac048353e9eaa7e3",
            "6f2c9729874b4a8f96c4ac7bbd9985c9",
            "412fcda1cae44a6da059571419507b1a",
            "0ce30cd2c74345bda22892cb53e9f647",
            "6138ae9b04b54f1abe6654a06ffe549f",
            "776ae5390ef44cc59671fd5f7ba6b454",
            "c74d95b651974043b2451a6b5b2d27f5",
            "d1d20137f54f4e18a2f798c17cce98be",
            "2b7465dc211241338299610dff5e349b"
          ]
        },
        "id": "0VL1Iv0xMY-N",
        "outputId": "53b6d149-34ba-4a4a-a084-b844d754689d"
      },
      "outputs": [
        {
          "output_type": "stream",
          "name": "stdout",
          "text": [
            "logging in as jandres.toro1@udea.edu.co... please wait\n",
            "\n",
            "-------------\n",
            "using course session ai4eng.v1.udea.r3::2025.1\n",
            "success!! you are logged in\n",
            "-------------\n"
          ]
        }
      ],
      "source": [
        "from local.lib.rlxmoocapi import submit, session\n",
        "session.LoginSequence(endpoint=init.endpoint, course_id=init.course_id, lab_id=\"L05.01\", varname=\"student\");"
      ]
    },
    {
      "cell_type": "code",
      "execution_count": null,
      "metadata": {
        "id": "29WguTj1MY-N"
      },
      "outputs": [],
      "source": []
    },
    {
      "cell_type": "markdown",
      "metadata": {
        "id": "Adzn0W10MY-N"
      },
      "source": [
        "## Task 1. Compute PNL from strategy\n",
        "\n",
        "observe the following signal `s`, and model trend predictions `p` (not perfect predictions!!)"
      ]
    },
    {
      "cell_type": "code",
      "execution_count": 3,
      "metadata": {
        "colab": {
          "base_uri": "https://localhost:8080/"
        },
        "id": "pC42e9VPMY-O",
        "outputId": "5ab92a49-741d-4270-b532-59763d7a1b22"
      },
      "outputs": [
        {
          "output_type": "stream",
          "name": "stdout",
          "text": [
            "(20,) (19,)\n"
          ]
        }
      ],
      "source": [
        "import numpy as np\n",
        "import matplotlib.pyplot as plt\n",
        "import pandas as pd\n",
        "%matplotlib inline\n",
        "s = np.round((np.random.normal(size=20)*5+.5).cumsum()+100,2)\n",
        "p = (np.random.random(size=len(s)-1)>.3).astype(int)\n",
        "print (s.shape, p.shape)"
      ]
    },
    {
      "cell_type": "code",
      "execution_count": 4,
      "metadata": {
        "colab": {
          "base_uri": "https://localhost:8080/",
          "height": 505
        },
        "id": "InXueU28MY-P",
        "outputId": "54c90aaa-c830-4e8a-e0c9-a32eefbc6e22"
      },
      "outputs": [
        {
          "output_type": "stream",
          "name": "stdout",
          "text": [
            "SIGNAL     [94.32 91.32 91.86 92.09 85.77 81.77 85.14 87.15 84.49 75.72 81.01 91.39\n",
            " 90.53 84.46 80.52 80.28 87.65 99.14 95.7  97.52]\n",
            "PREDICTION [1 0 1 1 0 0 1 0 1 1 0 0 1 1 1 1 0 1 1]\n"
          ]
        },
        {
          "output_type": "display_data",
          "data": {
            "text/plain": [
              "<Figure size 640x480 with 1 Axes>"
            ],
            "image/png": "[encoded data removed]"
          },
          "metadata": {}
        }
      ],
      "source": [
        "\n",
        "plt.plot(s, color=\"black\")\n",
        "plt.scatter(np.arange(len(p))[p==0], s[:-1][p==0], color=\"red\", label=\"prediction down\")\n",
        "plt.scatter(np.arange(len(p))[p==1], s[:-1][p==1], color=\"blue\", label=\"prediction up\")\n",
        "plt.grid(); plt.legend(); plt.xlabel(\"time instant\"); plt.ylabel(\"price\")\n",
        "plt.xticks(range(len(s)), range(len(s)))\n",
        "pd.DataFrame(np.vstack((s,list(p)+[np.nan])), index=[\"signal\", \"prediction\"])\n",
        "print (\"SIGNAL    \", s)\n",
        "print (\"PREDICTION\", p)\n"
      ]
    },
    {
      "cell_type": "markdown",
      "metadata": {
        "id": "S0-99cDCMY-Q"
      },
      "source": [
        "fill in the `pnl` variable below with a list of 19 values corresponding on applying the same strategy as in the notes, buying or selling always ONE money unit:\n",
        "\n",
        "- if the prediction is zero, we believe the price is going down, so we sell ONE money unit at the current price and buy it at the next instant of time\n",
        "- if the prediction is one, we do the opposite\n",
        "- BUT there is a **commission** of 1%, applied on the instant you make the first operation (which uses the current price)\n",
        "\n",
        "observe that there are 20 signal points, and 19 predictions.\n",
        "\n",
        "you can use your tool of choice (Excel, Python, etc.) to compute your answer\n",
        "\n",
        "**HINT**: Understand each component of the expression for `perfect_prediction` below to try to obtain your answer with Python."
      ]
    },
    {
      "cell_type": "markdown",
      "metadata": {
        "id": "V7qN1npSMY-Q"
      },
      "source": [
        "\n",
        "\n",
        "**For instance**: the following signal and predictions:"
      ]
    },
    {
      "cell_type": "code",
      "execution_count": 5,
      "metadata": {
        "colab": {
          "base_uri": "https://localhost:8080/",
          "height": 293
        },
        "id": "TxWXFMMpMY-R",
        "outputId": "2c3c0afc-2827-45c4-c463-402075972676"
      },
      "outputs": [
        {
          "output_type": "execute_result",
          "data": {
            "image/png": "[encoded data removed]",
            "text/plain": [
              "<IPython.core.display.Image object>"
            ]
          },
          "metadata": {
            "image/png": {
              "width": 600
            }
          },
          "execution_count": 5
        }
      ],
      "source": [
        "\n",
        "from IPython.display import Image\n",
        "Image(\"local/imgs/timeseries-prediction.png\", width=600)\n"
      ]
    },
    {
      "cell_type": "markdown",
      "metadata": {
        "id": "Spx_Pd6YMY-R"
      },
      "source": [
        "produce the following set of PNL\n",
        "\n",
        "     2.65 7.86 -0.31 7.48 2.61 2.19 1.33 -2.08 -2.71 -2.88 0.42 -5.39 3.03 1.53 3.45 9.88 10.70 -7.69 -0.60\n",
        "     \n",
        "- at `t=0` the PNL is $(107.06-103.38)\\times 1 - 103.38\\times 1 \\times .01=2.65$, since the prediction was correct\n",
        "- at `t=2` the PNL is $(116.84-115.99)\\times 1 - 115.99\\times 1 \\times .01=-0.31$, since the prediction was correct, BUT the price difference is small and the commission overcomes the profit.\n",
        "- at `t=7` the PNL is $(111.76 - 112.71)\\times1 - 112.71\\times1\\times.01=-2.08$, since the prediction was incorrect\n",
        "\n",
        "\n",
        "in the expressions above, the first term is the net profit or loss, and the second one is due to the commission. Multiplication by $1$ simply signals we are trading ONE unit."
      ]
    },
    {
      "cell_type": "markdown",
      "metadata": {
        "id": "nl7z7aASMY-R"
      },
      "source": [
        "also, observe that the following python code, will generate a perfect prediction signal, which, when applied to our strategy, will result in a list of all positive PNLs."
      ]
    },
    {
      "cell_type": "code",
      "execution_count": 8,
      "metadata": {
        "colab": {
          "base_uri": "https://localhost:8080/"
        },
        "id": "2xNR_fiqMY-S",
        "outputId": "93f2bb0d-1895-4826-c77f-a05e15c9fb49"
      },
      "outputs": [
        {
          "output_type": "execute_result",
          "data": {
            "text/plain": [
              "array([0, 1, 1, 0, 0, 1, 1, 0, 0, 1, 1, 0, 0, 0, 0, 1, 1, 0, 1])"
            ]
          },
          "metadata": {},
          "execution_count": 8
        }
      ],
      "source": [
        "perfect_prediction = (s[1:]>s[:-1]).astype(int)\n",
        "perfect_prediction"
      ]
    },
    {
      "cell_type": "markdown",
      "metadata": {
        "id": "L3mqPdSaMY-S"
      },
      "source": [
        "**CHALLENGE 1** (not mandatory): make your answer in python\n",
        "\n",
        "**hints**:\n",
        "\n",
        "    s[1:]            will give you all elements of s except the first one\n",
        "    s[:-1]           will give you all elements of s except the last one\n",
        "    s[1:] - s[:-1]   will give you the difference of price in one time with respect to the next one\n",
        "    (p-0.5)*2        will convert vector p (containing 0's and 1's) into a vector of -1's and +1's"
      ]
    },
    {
      "cell_type": "code",
      "execution_count": null,
      "metadata": {
        "id": "_IDNrj2IMY-S"
      },
      "outputs": [],
      "source": []
    },
    {
      "cell_type": "code",
      "execution_count": null,
      "metadata": {
        "id": "IuFErBHYMY-S"
      },
      "outputs": [],
      "source": []
    },
    {
      "cell_type": "code",
      "execution_count": null,
      "metadata": {
        "id": "tC08ZuK4MY-S"
      },
      "outputs": [],
      "source": []
    },
    {
      "cell_type": "markdown",
      "metadata": {
        "id": "VCWpqsP8MY-T"
      },
      "source": [
        "**fill in the following variable**"
      ]
    },
    {
      "cell_type": "code",
      "source": [
        "import numpy as np\n",
        "\n",
        "# SIGNAL (s): Precios o puntos de datos del activo\n",
        "s = np.array([92.88, 90.96, 94.72, 89.5, 87.1, 94.69, 87.64, 87.08, 85.47, 88.02, 90.72, 97.44, 99.37, 94.65, 91.76, 97.29, 93.15, 95.55, 102.04, 106.61])\n",
        "\n",
        "# PREDICTION (p): Señales de la estrategia (1=comprar/long, 0=vender/short)\n",
        "p = np.array([1, 1, 1, 1, 1, 1, 1, 1, 1, 1, 1, 0, 1, 1, 1, 0, 1, 1, 0])\n",
        "\n",
        "# Comisión por operación\n",
        "commission_rate = 0.01 # 1%"
      ],
      "metadata": {
        "id": "9AcB6udmQwdI"
      },
      "execution_count": 10,
      "outputs": []
    },
    {
      "cell_type": "code",
      "source": [
        "# Convertir las predicciones de 0 y 1 a -1 y 1\n",
        "# 1 -> 1 (buy/long)\n",
        "# 0 -> -1 (sell/short)\n",
        "strategy_signal = (p - 0.5) * 2\n",
        "\n",
        "# Calcular los cambios de precio de un periodo a otro\n",
        "# Esto representa el retorno bruto si se mantiene el activo\n",
        "price_changes = s[1:] - s[:-1]\n",
        "\n",
        "# Verificar las dimensiones:\n",
        "# price_changes tendrá len(s) - 1 = 19 valores\n",
        "# strategy_signal tiene 19 valores\n",
        "# Esto es consistente con la tarea de 19 valores de PNL."
      ],
      "metadata": {
        "id": "707KJ-PXQ21c"
      },
      "execution_count": 12,
      "outputs": []
    },
    {
      "cell_type": "code",
      "execution_count": 13,
      "metadata": {
        "id": "I03jiyGNMY-T"
      },
      "outputs": [],
      "source": [
        "pnl = []\n",
        "for i in range(len(strategy_signal)):\n",
        "    action = strategy_signal[i]\n",
        "    price_diff = price_changes[i]\n",
        "    initial_price_of_period = s[i] # Precio al inicio del periodo para calcular la comisión\n",
        "\n",
        "    # PNL bruto (sin comisión)\n",
        "    gross_pnl = price_diff * action\n",
        "\n",
        "    # Costo de la comisión (solo si hay operación, es decir, action es 1 o -1)\n",
        "    # Según el ejemplo, la comisión se aplica sobre el precio en s[i]\n",
        "    commission_cost = initial_price_of_period * commission_rate\n",
        "\n",
        "    # PNL neto del periodo\n",
        "    net_pnl = gross_pnl - commission_cost\n",
        "\n",
        "    pnl.append(round(net_pnl, 2)) # Redondeamos a 2 decimales como en los ejemplos\n",
        "\n",
        "# La variable 'pnl' final es la lista de 19 valores\n",
        "pnl_final = np.array(pnl)"
      ]
    },
    {
      "cell_type": "code",
      "execution_count": null,
      "metadata": {
        "id": "0mwNJcBzMY-T"
      },
      "outputs": [],
      "source": []
    },
    {
      "cell_type": "code",
      "execution_count": null,
      "metadata": {
        "id": "vtD3CIJOMY-T"
      },
      "outputs": [],
      "source": []
    },
    {
      "cell_type": "markdown",
      "metadata": {
        "id": "SOv-T8XRMY-T"
      },
      "source": [
        "**submit your answer**"
      ]
    },
    {
      "cell_type": "code",
      "execution_count": 14,
      "metadata": {
        "scrolled": false,
        "colab": {
          "base_uri": "https://localhost:8080/",
          "height": 111
        },
        "id": "N07ngnc8MY-U",
        "outputId": "0ab88db8-23e3-4b41-e580-214397cb0ea0"
      },
      "outputs": [
        {
          "output_type": "display_data",
          "data": {
            "text/plain": [
              "<IPython.core.display.HTML object>"
            ],
            "text/html": [
              "\n",
              "                    <b>task_01 submitted.</b> <b><font color=\"blue\">your grade is 5</font></b> \n",
              "                    <p/><pre>----- grader message -------</pre><b>correct</b><pre>----------------------------</pre>\n",
              "                    <p/><p/>\n",
              "                    <div style=\"font-size:10px\"><b>SUBMISSION CODE</b> 6mRexTgTFFd9cP+fQ3skqdL/2DaNcchwJeK8K5Y7lyJkfAq/s/up2VEhUz7P6aIRPwsbI7g/rcc3WMTvpMBr0x1vGD3vRwjKiUlRpFeb2cgX0orXXWlYcmfU+ZFJCUabAIXbvs1dvGTFvSgV6D+6pwOR4tJL8/6vHUXgpy1YM+E=</div>\n",
              "                    "
            ]
          },
          "metadata": {}
        }
      ],
      "source": [
        "student.submit_task(globals(), task_id=\"task_01\");"
      ]
    },
    {
      "cell_type": "code",
      "execution_count": null,
      "metadata": {
        "id": "JY7gH8ldMY-U"
      },
      "outputs": [],
      "source": []
    },
    {
      "cell_type": "code",
      "execution_count": null,
      "metadata": {
        "id": "8mPgQ0hIMY-U"
      },
      "outputs": [],
      "source": []
    },
    {
      "cell_type": "markdown",
      "metadata": {
        "id": "ZP8UON0CMY-U"
      },
      "source": [
        "## Task 2: Simulated prediction signal"
      ]
    },
    {
      "cell_type": "markdown",
      "metadata": {
        "id": "YeFSvg78MY-U"
      },
      "source": [
        "given the following signal, produce a synthetic prediction signal with the given percentage of correct predictions.\n",
        "\n",
        "observe that `s` has length 21, but your synthetic prediction will have a length of 20.\n",
        "\n",
        "fill in the variable `prediction`, with a list with 20 zeros or ones, containing a prediction with `acc` correct predictions.\n",
        "\n",
        "for instance, with the following signal\n",
        "\n",
        "        [100.37 102.92 102.69 104.57 105.06  97.9  103.   100.32  97.59 107.07\n",
        "         112.19 106.32 104.14 100.3   97.03 107.28 100.36 100.99 111.48 117.07\n",
        "         126.04]\n",
        "         \n",
        "the following predictions:\n",
        "\n",
        "        p = [1, 0, 1, 0, 0, 1, 1, 1, 1, 1, 1, 0, 0, 1, 1, 0, 0, 1, 0, 0]\n",
        "        \n",
        "produce a trend prediction accuracy of 60% (`acc=0.6`)\n",
        "\n",
        "**HINT**: Do it in Python\n",
        "\n",
        "- use the perfect prediction from the exercise above to start with.\n",
        "- use `np.random.permutation`\n",
        "\n",
        "for instance:"
      ]
    },
    {
      "cell_type": "code",
      "execution_count": 33,
      "metadata": {
        "colab": {
          "base_uri": "https://localhost:8080/"
        },
        "id": "9NpdbwvmMY-V",
        "outputId": "536e4543-42f5-4211-cd91-be2d60f9b61e"
      },
      "outputs": [
        {
          "output_type": "stream",
          "name": "stdout",
          "text": [
            "[7 1 5]\n"
          ]
        },
        {
          "output_type": "execute_result",
          "data": {
            "text/plain": [
              "array([10, 21, 30, 40, 50, 61, 70, 81, 90])"
            ]
          },
          "metadata": {},
          "execution_count": 33
        }
      ],
      "source": [
        "\n",
        "# a list\n",
        "a = np.r_[10,20,30,40,50,60,70,80,90]\n",
        "\n",
        "# 3 positions randomly chosen\n",
        "k = np.random.permutation(len(a)-1)[:3]\n",
        "print (k)\n",
        "\n",
        "# changing the value of the items on those positions\n",
        "a[k] = a[k] + 1\n",
        "a\n"
      ]
    },
    {
      "cell_type": "code",
      "execution_count": null,
      "metadata": {
        "id": "lFx5HFBMMY-V"
      },
      "outputs": [],
      "source": []
    },
    {
      "cell_type": "markdown",
      "metadata": {
        "id": "T-UXAImIMY-V"
      },
      "source": [
        "**your signal and target accuracy to achieve**"
      ]
    },
    {
      "cell_type": "code",
      "execution_count": 35,
      "metadata": {
        "colab": {
          "base_uri": "https://localhost:8080/"
        },
        "id": "bYAt-SLPMY-V",
        "outputId": "44e28dc8-c5f0-4575-a54f-abe814d8a79e"
      },
      "outputs": [
        {
          "output_type": "stream",
          "name": "stdout",
          "text": [
            "YOUR SIGNAL [108.5  104.52 112.62 114.59 115.13 109.16 113.17 104.69 106.93 115.24\n",
            " 118.67 123.23 117.73 112.94 115.83 106.62  99.33  99.41 104.54 105.34\n",
            " 114.4 ]\n",
            "THE ACCURACY YOUR SYNTHETIC PREDICTIONS MUST ACHIEVE:  0.2\n"
          ]
        }
      ],
      "source": [
        "\n",
        "s = ((np.random.normal(size=21)*5+.5).cumsum()+100).round(2)\n",
        "acc = np.round(np.random.random()*.9+.1, 1)\n",
        "print (\"YOUR SIGNAL\", s)\n",
        "print (\"THE ACCURACY YOUR SYNTHETIC PREDICTIONS MUST ACHIEVE: \", acc)\n"
      ]
    },
    {
      "cell_type": "code",
      "execution_count": 36,
      "metadata": {
        "colab": {
          "base_uri": "https://localhost:8080/"
        },
        "id": "JpyGc09CMY-W",
        "outputId": "5368cc88-0ddb-42f3-9955-c83f1ca3b630"
      },
      "outputs": [
        {
          "output_type": "stream",
          "name": "stdout",
          "text": [
            "\n",
            "La variable `my_synthetic_prediction` para este ejemplo (con acc=0.2) sería:\n",
            "[1, 0, 0, 0, 0, 0, 1, 0, 1, 1, 0, 1, 1, 0, 1, 1, 0, 1, 0, 0]\n",
            "Precisión real de tu señal generada: 0.20\n"
          ]
        }
      ],
      "source": [
        "# --- ESTOS VALORES LOS OBTIENES EJECUTANDO EL NOTEBOOK ---\n",
        "# Ejemplo de 's' (tu s real será diferente)\n",
        "s_example = s\n",
        "\n",
        "# Ejemplo de 'acc' (tu acc real será diferente, supongamos 0.7 para este ejemplo)\n",
        "acc_example = acc\n",
        "# --------------------------------------------------------\n",
        "\n",
        "# 1. Determinar los movimientos reales (la \"verdad\")\n",
        "true_movements = (s_example[1:] > s_example[:-1]).astype(int)\n",
        "# print(\"Movimientos reales (true_movements):\", true_movements)\n",
        "# print(\"Longitud de true_movements:\", len(true_movements)) # Debería ser 20\n",
        "\n",
        "# 2. Calcular el número de predicciones correctas necesarias\n",
        "num_correct_predictions = int(round(acc_example * len(true_movements)))\n",
        "# print(f\"Número de predicciones correctas necesarias para acc={acc_example}: {num_correct_predictions}\")\n",
        "\n",
        "# 3. Construir my_synthetic_prediction\n",
        "my_synthetic_prediction = np.copy(true_movements) # Empezamos con todas correctas\n",
        "\n",
        "# Calcular cuántas predicciones incorrectas necesitamos\n",
        "num_incorrect_predictions = len(true_movements) - num_correct_predictions\n",
        "\n",
        "# Si necesitamos introducir predicciones incorrectas:\n",
        "if num_incorrect_predictions > 0:\n",
        "    # Elegir índices al azar para \"voltear\" la predicción y hacerla incorrecta\n",
        "    # Aseguramos que elegimos índices únicos\n",
        "    incorrect_indices = np.random.choice(len(true_movements), num_incorrect_predictions, replace=False)\n",
        "\n",
        "    for idx in incorrect_indices:\n",
        "        my_synthetic_prediction[idx] = 1 - my_synthetic_prediction[idx] # Voltear 0 a 1 o 1 a 0\n",
        "\n",
        "# Convertir a lista de Python si es requerido por el ejercicio\n",
        "my_synthetic_prediction_list = my_synthetic_prediction.tolist()\n",
        "\n",
        "print(\"\\nLa variable `my_synthetic_prediction` para este ejemplo (con acc={}) sería:\".format(acc_example))\n",
        "print(my_synthetic_prediction_list)\n",
        "\n",
        "# Opcional: Verificar la precisión de tu señal generada\n",
        "actual_correct_count = np.sum(my_synthetic_prediction == true_movements)\n",
        "actual_accuracy = actual_correct_count / len(true_movements)\n",
        "print(f\"Precisión real de tu señal generada: {actual_accuracy:.2f}\")"
      ]
    },
    {
      "cell_type": "code",
      "execution_count": null,
      "metadata": {
        "id": "1w79_4MVMY-W"
      },
      "outputs": [],
      "source": []
    },
    {
      "cell_type": "markdown",
      "metadata": {
        "id": "8Lg84wAFMY-W"
      },
      "source": [
        "**submit your answer**"
      ]
    },
    {
      "cell_type": "code",
      "execution_count": 37,
      "metadata": {
        "scrolled": true,
        "colab": {
          "base_uri": "https://localhost:8080/",
          "height": 111
        },
        "id": "w_etkX2NMY-W",
        "outputId": "2b34e6a0-eb35-46cf-951f-52fdbd236957"
      },
      "outputs": [
        {
          "output_type": "display_data",
          "data": {
            "text/plain": [
              "<IPython.core.display.HTML object>"
            ],
            "text/html": [
              "\n",
              "                    <b>task_02 submitted.</b> <b><font color=\"blue\">your grade is 5</font></b> \n",
              "                    <p/><pre>----- grader message -------</pre><b>correct</b><pre>----------------------------</pre>\n",
              "                    <p/><p/>\n",
              "                    <div style=\"font-size:10px\"><b>SUBMISSION CODE</b> VoRiYdjvysuIQgPZ/dKOnwU6d5u3YTlljb++HPJMIBWt0c73cnIKaYbn7qzLj/AM0Pa7//a54LP/EADgae+3x2oICufdGsMlrH9ss2bivsA11Y6Bb777DETyMpfeQ6ULfhBMkO7Ddniro4cMHyeliiKKVOVnSOEGziWbKDWlIHY=</div>\n",
              "                    "
            ]
          },
          "metadata": {}
        }
      ],
      "source": [
        "student.submit_task(globals(), task_id=\"task_02\");"
      ]
    },
    {
      "cell_type": "code",
      "execution_count": null,
      "metadata": {
        "id": "TfMTqBGSMY-X"
      },
      "outputs": [],
      "source": []
    },
    {
      "cell_type": "markdown",
      "metadata": {
        "id": "t-ROsP99MY-X"
      },
      "source": [
        "## Task 3: ML Metric vs Business Metric\n",
        "\n",
        "now, your are given a signal (length=21) and you will have to create\n",
        "\n",
        "- an array of 9 rows x 20 columns with synthetic predictions so that the first row (row number zero in python) has accuracy of 10%, the second has 20%, etc.\n",
        "- a list of 9 numbers containing the PNL of using the synthetic predictions on the above array as input for a trading strategy.\n",
        "\n",
        "for instance, for this signal:\n",
        "\n",
        "    [101.33,  96.75,  98.2 ,  95.3 ,  97.96,  98.75,  92.46,  82.2 , 78.61,  80.  ,  \n",
        "      88.78,  98.72, 103.22, 113.65, 103.89, 107.36, 114.6 , 103.9 , 108.71, 104.2 , 107.8 ]\n",
        "\n",
        "you will have to create the following variables:\n",
        "\n",
        "    pset = np.array([[1, 1, 1, 0, 0, 1, 1, 1, 0, 0, 0, 0, 0, 1, 1, 0, 1, 0, 1, 0],\n",
        "                     [1, 0, 1, 0, 0, 1, 1, 1, 0, 1, 0, 1, 1, 1, 0, 1, 1, 0, 1, 0],\n",
        "                     [1, 0, 0, 0, 0, 0, 1, 1, 0, 1, 0, 1, 0, 1, 0, 1, 1, 0, 0, 0],\n",
        "                     [1, 0, 0, 0, 0, 1, 1, 1, 1, 1, 0, 1, 1, 1, 1, 1, 1, 0, 1, 1],\n",
        "                     [1, 1, 0, 0, 0, 0, 0, 0, 0, 0, 1, 1, 1, 0, 0, 0, 1, 0, 0, 0],\n",
        "                     [0, 1, 0, 1, 1, 1, 0, 0, 1, 1, 0, 0, 1, 1, 0, 0, 1, 1, 0, 0],\n",
        "                     [0, 1, 1, 0, 1, 0, 1, 0, 1, 1, 1, 1, 0, 0, 0, 1, 0, 1, 1, 1],\n",
        "                     [0, 1, 0, 1, 1, 0, 1, 0, 1, 1, 1, 1, 1, 0, 0, 0, 0, 1, 1, 1],\n",
        "                     [0, 1, 0, 0, 1, 0, 0, 0, 1, 1, 1, 1, 1, 0, 1, 1, 0, 0, 0, 1]])\n",
        "\n",
        "    \n",
        "    pnl = np.array([-121.5, -69.44, -62.90, -46.72, -4.08, -19.04, 23.5, 41.0, 77.02])\n",
        "    \n",
        "**NOTE**: Specify your PNL rounded to **TWO** decimal places"
      ]
    },
    {
      "cell_type": "code",
      "execution_count": 40,
      "metadata": {
        "colab": {
          "base_uri": "https://localhost:8080/"
        },
        "id": "s8RXVF3DMY-X",
        "outputId": "a51a1390-a5a3-4368-d098-fe24b5702f93"
      },
      "outputs": [
        {
          "output_type": "execute_result",
          "data": {
            "text/plain": [
              "array([102.33, 108.53, 103.87, 112.4 , 113.27, 103.27, 100.86, 101.03,\n",
              "       103.25, 105.31, 110.07, 110.73, 114.02, 119.44, 122.79, 125.41,\n",
              "       117.41, 114.08, 111.87, 113.49, 117.95])"
            ]
          },
          "metadata": {},
          "execution_count": 40
        }
      ],
      "source": [
        "s = ((np.random.normal(size=21)*5+.5).cumsum()+100).round(2)\n",
        "s"
      ]
    },
    {
      "cell_type": "code",
      "execution_count": 41,
      "metadata": {
        "colab": {
          "base_uri": "https://localhost:8080/"
        },
        "id": "83UWclEPMY-v",
        "outputId": "8a43feb2-1128-4c85-f0bc-85f6bb0bcc03"
      },
      "outputs": [
        {
          "output_type": "stream",
          "name": "stdout",
          "text": [
            "--- Respuesta de la Tarea 3 ---\n",
            "\n",
            "Variable 'pset' (9x20 array de predicciones sintéticas con diferentes accuracies):\n",
            "[[1 0 1 0 1 0 1 0 0 0 1 1 1 0 1 1 0 0 0 0]\n",
            " [0 0 0 0 1 1 1 0 1 0 0 1 1 0 1 1 1 0 0 0]\n",
            " [1 1 1 0 0 0 1 0 0 0 0 1 0 1 1 1 0 0 1 0]\n",
            " [1 1 0 1 0 1 0 0 0 1 0 1 1 0 0 1 0 1 0 0]\n",
            " [0 0 1 0 1 1 0 0 0 1 1 0 1 0 0 1 0 1 1 0]\n",
            " [1 1 0 0 0 1 0 1 1 1 0 0 0 1 0 1 0 0 1 0]\n",
            " [0 1 1 0 1 1 0 1 1 1 1 0 1 1 1 0 0 1 1 0]\n",
            " [0 0 1 1 1 1 1 1 0 1 1 0 0 1 0 0 1 1 1 1]\n",
            " [1 1 1 1 0 1 0 1 1 1 1 0 0 1 0 0 0 1 1 1]]\n",
            "\n",
            "Variable 'pnl' (9 elementos array de PNLs acumulados para cada fila de pset):\n",
            "[-105.36  -85.66  -69.38  -28.68  -24.28    9.04   14.96   12.54   66.14]\n"
          ]
        }
      ],
      "source": [
        "import numpy as np\n",
        "\n",
        "# --- 1. Obtén tu 's' real ejecutando la celda en tu notebook Colab ---\n",
        "# Si no quieres usar el ejemplo, reemplaza s_example con el 's' que obtienes de tu notebook\n",
        "s = s_example # Usar el 's' que obtenga de mi ejecución o el ejemplo si es solo para mostrar\n",
        "\n",
        "# Comisión\n",
        "commission_rate = 0.01 # 1%\n",
        "\n",
        "# 2. Calcular los movimientos reales del mercado (la \"verdad\" sube/baja)\n",
        "# Si s[i+1] > s[i], entonces el precio subió (1), de lo contrario, bajó o se mantuvo (0).\n",
        "true_movements = (s[1:] > s[:-1]).astype(int)\n",
        "num_periods = len(true_movements) # Esto será 20\n",
        "\n",
        "# Los niveles de precisión que cada fila de pset debe alcanzar\n",
        "accuracy_levels = np.arange(0.1, 1.0, 0.1).round(1) # [0.1, 0.2, ..., 0.9]\n",
        "\n",
        "pset = [] # Lista para almacenar las 9 filas de predicciones\n",
        "pnl_list = [] # Lista para almacenar los 9 valores de PNL\n",
        "\n",
        "# 3. Generar pset (array de predicciones sintéticas)\n",
        "for acc in accuracy_levels:\n",
        "    num_correct_predictions = int(round(acc * num_periods))\n",
        "    num_incorrect_predictions = num_periods - num_correct_predictions\n",
        "\n",
        "    # Crear una fila de predicciones\n",
        "    synthetic_prediction_row = np.copy(true_movements)\n",
        "\n",
        "    # Si necesitamos introducir predicciones incorrectas, voltea algunas al azar\n",
        "    if num_incorrect_predictions > 0:\n",
        "        incorrect_indices = np.random.choice(num_periods, num_incorrect_predictions, replace=False)\n",
        "        for idx in incorrect_indices:\n",
        "            synthetic_prediction_row[idx] = 1 - synthetic_prediction_row[idx] # Voltear 0 a 1 o 1 a 0\n",
        "\n",
        "    pset.append(synthetic_prediction_row)\n",
        "\n",
        "pset = np.array(pset) # Convertir la lista de filas a un array NumPy 9x20\n",
        "\n",
        "# 4. Calcular pnl para cada fila de pset\n",
        "# Reutilizamos la lógica de PNL de la Tarea 1\n",
        "\n",
        "# Calcular los cambios de precio de un periodo a otro\n",
        "price_changes = s[1:] - s[:-1]\n",
        "\n",
        "for i in range(pset.shape[0]): # Iterar a través de cada una de las 9 filas en pset\n",
        "    current_prediction_row = pset[i, :] # La fila actual de predicciones (0s y 1s)\n",
        "\n",
        "    # Convertir las predicciones de 0 y 1 a -1 y 1 para la acción de la estrategia\n",
        "    strategy_signal = (current_prediction_row - 0.5) * 2\n",
        "\n",
        "    current_pnl_total = 0.0\n",
        "    for j in range(num_periods): # Iterar sobre los 20 periodos de la fila\n",
        "        action = strategy_signal[j]\n",
        "        price_diff = price_changes[j]\n",
        "        initial_price_of_period = s[j] # Precio al inicio del periodo para calcular la comisión\n",
        "\n",
        "        gross_pnl = price_diff * action\n",
        "        commission_cost = initial_price_of_period * commission_rate\n",
        "\n",
        "        net_pnl = gross_pnl - commission_cost\n",
        "        current_pnl_total += net_pnl # Acumular el PNL para la fila\n",
        "\n",
        "    pnl_list.append(round(current_pnl_total, 2)) # Redondear el PNL total de la fila y añadirlo\n",
        "\n",
        "pnl = np.array(pnl_list) # Convertir la lista de PNLs a un array NumPy de 9 elementos\n",
        "\n",
        "print(\"--- Respuesta de la Tarea 3 ---\")\n",
        "print(\"\\nVariable 'pset' (9x20 array de predicciones sintéticas con diferentes accuracies):\")\n",
        "print(pset)\n",
        "print(\"\\nVariable 'pnl' (9 elementos array de PNLs acumulados para cada fila de pset):\")\n",
        "print(pnl)"
      ]
    },
    {
      "cell_type": "code",
      "execution_count": null,
      "metadata": {
        "id": "gtx2iqkgMY-w"
      },
      "outputs": [],
      "source": []
    },
    {
      "cell_type": "code",
      "execution_count": null,
      "metadata": {
        "id": "7gwsFJeaMY-w"
      },
      "outputs": [],
      "source": []
    },
    {
      "cell_type": "markdown",
      "metadata": {
        "id": "Kz_HppWGMY-w"
      },
      "source": [
        "**submit your answer**"
      ]
    },
    {
      "cell_type": "code",
      "execution_count": 42,
      "metadata": {
        "scrolled": true,
        "colab": {
          "base_uri": "https://localhost:8080/",
          "height": 111
        },
        "id": "yIo-4NhOMY-w",
        "outputId": "dd87e2b2-a77f-4f57-c042-f783eeeaa177"
      },
      "outputs": [
        {
          "output_type": "display_data",
          "data": {
            "text/plain": [
              "<IPython.core.display.HTML object>"
            ],
            "text/html": [
              "\n",
              "                    <b>task_03 submitted.</b> <b><font color=\"blue\">your grade is 5</font></b> \n",
              "                    <p/><pre>----- grader message -------</pre><b>correct</b><pre>----------------------------</pre>\n",
              "                    <p/><p/>\n",
              "                    <div style=\"font-size:10px\"><b>SUBMISSION CODE</b> 8D3qxrFVH0Yw4QFE+nYKb1dM6ifwrisqusIH+1U7Zvr9lMhDIb2DAElGY3AWyGrqAkiePASWi4yPjPvJLyrSg261GQWEQF3fvrokjNobGgl5OS3FRQjrPV2oBrC74hXyQMReGgoWe1uvjP0n7gK4XD6bc03HTgomNRhaQhDOsSU=</div>\n",
              "                    "
            ]
          },
          "metadata": {}
        }
      ],
      "source": [
        "student.submit_task(globals(), task_id=\"task_03\");"
      ]
    },
    {
      "cell_type": "code",
      "execution_count": null,
      "metadata": {
        "id": "KbYL8PGMMY-w"
      },
      "outputs": [],
      "source": []
    },
    {
      "cell_type": "markdown",
      "metadata": {
        "id": "HVKHFDluMY-x"
      },
      "source": [
        "### understand accuracy vs. PNL\n",
        "\n",
        "- what is the minimum accuracy from which a model might be profitable?\n",
        "- and if the commision changes?"
      ]
    },
    {
      "cell_type": "code",
      "execution_count": 43,
      "metadata": {
        "colab": {
          "base_uri": "https://localhost:8080/",
          "height": 490
        },
        "id": "BDPokTybMY-x",
        "outputId": "30a0528a-1c1e-4fa2-bbe8-e45b06e3f7c4"
      },
      "outputs": [
        {
          "output_type": "execute_result",
          "data": {
            "text/plain": [
              "Text(0, 0.5, 'PNL')"
            ]
          },
          "metadata": {},
          "execution_count": 43
        },
        {
          "output_type": "display_data",
          "data": {
            "text/plain": [
              "<Figure size 640x480 with 1 Axes>"
            ],
            "image/png": "[encoded data removed]"
          },
          "metadata": {}
        }
      ],
      "source": [
        "\n",
        "accuracies = np.linspace(.1,.9,9)\n",
        "plt.plot(accuracies, pnl)\n",
        "plt.axhline(0, color=\"black\", lw=2)\n",
        "plt.title(\"ML metric vs. Busines metric\")\n",
        "plt.grid(); plt.xlabel(\"model accuracy\"); plt.ylabel(\"PNL\")\n"
      ]
    },
    {
      "cell_type": "code",
      "execution_count": null,
      "metadata": {
        "id": "MpkrRVYTMY-x"
      },
      "outputs": [],
      "source": []
    }
  ],
  "metadata": {
    "kernelspec": {
      "display_name": "Python 3",
      "language": "python",
      "name": "python3"
    },
    "language_info": {
      "codemirror_mode": {
        "name": "ipython",
        "version": 3
      },
      "file_extension": ".py",
      "mimetype": "text/x-python",
      "name": "python",
      "nbconvert_exporter": "python",
      "pygments_lexer": "ipython3",
      "version": "3.7.3"
    },
    "colab": {
      "provenance": []
    },
    "widgets": {
      "application/vnd.jupyter.widget-state+json": {
        "8aa3a81dfc4a4d8c9f693a5831941886": {
          "model_module": "@jupyter-widgets/controls",
          "model_name": "HBoxModel",
          "model_module_version": "1.5.0",
          "state": {
            "_dom_classes": [],
            "_model_module": "@jupyter-widgets/controls",
            "_model_module_version": "1.5.0",
            "_model_name": "HBoxModel",
            "_view_count": null,
            "_view_module": "@jupyter-widgets/controls",
            "_view_module_version": "1.5.0",
            "_view_name": "HBoxView",
            "box_style": "",
            "children": [
              "IPY_MODEL_e8e7f3ad6cc341afa53d5f0abbe29d89",
              "IPY_MODEL_b70db13f7c344f0fa24baa1450b4ad0f",
              "IPY_MODEL_11326862e34843b7a6ac014c1ef2c308",
              "IPY_MODEL_8a724d2dc55242698cfc5d3698c6a860"
            ],
            "layout": "IPY_MODEL_5ffb4eaecbef442db47645833f8972ce"
          }
        },
        "e8e7f3ad6cc341afa53d5f0abbe29d89": {
          "model_module": "@jupyter-widgets/controls",
          "model_name": "VBoxModel",
          "model_module_version": "1.5.0",
          "state": {
            "_dom_classes": [],
            "_model_module": "@jupyter-widgets/controls",
            "_model_module_version": "1.5.0",
            "_model_name": "VBoxModel",
            "_view_count": null,
            "_view_module": "@jupyter-widgets/controls",
            "_view_module_version": "1.5.0",
            "_view_name": "VBoxView",
            "box_style": "",
            "children": [
              "IPY_MODEL_ff19828c1e324ea48511c53ff482a3e0",
              "IPY_MODEL_eb9ef7d994d0486fbd9ebcdfa3cf12fa"
            ],
            "layout": "IPY_MODEL_c2a68cb2fffa4ed09f21e77ffde66ed9"
          }
        },
        "b70db13f7c344f0fa24baa1450b4ad0f": {
          "model_module": "@jupyter-widgets/controls",
          "model_name": "ButtonModel",
          "model_module_version": "1.5.0",
          "state": {
            "_dom_classes": [
              "login_button"
            ],
            "_model_module": "@jupyter-widgets/controls",
            "_model_module_version": "1.5.0",
            "_model_name": "ButtonModel",
            "_view_count": null,
            "_view_module": "@jupyter-widgets/controls",
            "_view_module_version": "1.5.0",
            "_view_name": "ButtonView",
            "button_style": "",
            "description": "Login with email",
            "disabled": false,
            "icon": "",
            "layout": "IPY_MODEL_c2b1bc1a03a84ea29d01cb00c7f2d953",
            "style": "IPY_MODEL_389bb07ffdad4b34ac048353e9eaa7e3",
            "tooltip": ""
          }
        },
        "11326862e34843b7a6ac014c1ef2c308": {
          "model_module": "@jupyter-widgets/controls",
          "model_name": "HTMLModel",
          "model_module_version": "1.5.0",
          "state": {
            "_dom_classes": [],
            "_model_module": "@jupyter-widgets/controls",
            "_model_module_version": "1.5.0",
            "_model_name": "HTMLModel",
            "_view_count": null,
            "_view_module": "@jupyter-widgets/controls",
            "_view_module_version": "1.5.0",
            "_view_name": "HTMLView",
            "description": "",
            "description_tooltip": null,
            "layout": "IPY_MODEL_6f2c9729874b4a8f96c4ac7bbd9985c9",
            "placeholder": "​",
            "style": "IPY_MODEL_412fcda1cae44a6da059571419507b1a",
            "value": "<center><big>or</big></center>"
          }
        },
        "8a724d2dc55242698cfc5d3698c6a860": {
          "model_module": "@jupyter-widgets/controls",
          "model_name": "ButtonModel",
          "model_module_version": "1.5.0",
          "state": {
            "_dom_classes": [
              "google_button"
            ],
            "_model_module": "@jupyter-widgets/controls",
            "_model_module_version": "1.5.0",
            "_model_name": "ButtonModel",
            "_view_count": null,
            "_view_module": "@jupyter-widgets/controls",
            "_view_module_version": "1.5.0",
            "_view_name": "ButtonView",
            "button_style": "",
            "description": "Login with Google",
            "disabled": false,
            "icon": "",
            "layout": "IPY_MODEL_0ce30cd2c74345bda22892cb53e9f647",
            "style": "IPY_MODEL_6138ae9b04b54f1abe6654a06ffe549f",
            "tooltip": ""
          }
        },
        "5ffb4eaecbef442db47645833f8972ce": {
          "model_module": "@jupyter-widgets/base",
          "model_name": "LayoutModel",
          "model_module_version": "1.2.0",
          "state": {
            "_model_module": "@jupyter-widgets/base",
            "_model_module_version": "1.2.0",
            "_model_name": "LayoutModel",
            "_view_count": null,
            "_view_module": "@jupyter-widgets/base",
            "_view_module_version": "1.2.0",
            "_view_name": "LayoutView",
            "align_content": null,
            "align_items": null,
            "align_self": null,
            "border": null,
            "bottom": null,
            "display": null,
            "flex": null,
            "flex_flow": null,
            "grid_area": null,
            "grid_auto_columns": null,
            "grid_auto_flow": null,
            "grid_auto_rows": null,
            "grid_column": null,
            "grid_gap": null,
            "grid_row": null,
            "grid_template_areas": null,
            "grid_template_columns": null,
            "grid_template_rows": null,
            "height": null,
            "justify_content": null,
            "justify_items": null,
            "left": null,
            "margin": null,
            "max_height": null,
            "max_width": null,
            "min_height": null,
            "min_width": null,
            "object_fit": null,
            "object_position": null,
            "order": null,
            "overflow": null,
            "overflow_x": null,
            "overflow_y": null,
            "padding": null,
            "right": null,
            "top": null,
            "visibility": null,
            "width": null
          }
        },
        "ff19828c1e324ea48511c53ff482a3e0": {
          "model_module": "@jupyter-widgets/controls",
          "model_name": "TextModel",
          "model_module_version": "1.5.0",
          "state": {
            "_dom_classes": [],
            "_model_module": "@jupyter-widgets/controls",
            "_model_module_version": "1.5.0",
            "_model_name": "TextModel",
            "_view_count": null,
            "_view_module": "@jupyter-widgets/controls",
            "_view_module_version": "1.5.0",
            "_view_name": "TextView",
            "continuous_update": true,
            "description": "email",
            "description_tooltip": null,
            "disabled": false,
            "layout": "IPY_MODEL_776ae5390ef44cc59671fd5f7ba6b454",
            "placeholder": "​",
            "style": "IPY_MODEL_c74d95b651974043b2451a6b5b2d27f5",
            "value": ""
          }
        },
        "eb9ef7d994d0486fbd9ebcdfa3cf12fa": {
          "model_module": "@jupyter-widgets/controls",
          "model_name": "PasswordModel",
          "model_module_version": "1.5.0",
          "state": {
            "_dom_classes": [],
            "_model_module": "@jupyter-widgets/controls",
            "_model_module_version": "1.5.0",
            "_model_name": "PasswordModel",
            "_view_count": null,
            "_view_module": "@jupyter-widgets/controls",
            "_view_module_version": "1.5.0",
            "_view_name": "PasswordView",
            "continuous_update": true,
            "description": "password",
            "description_tooltip": null,
            "disabled": false,
            "layout": "IPY_MODEL_d1d20137f54f4e18a2f798c17cce98be",
            "placeholder": "​",
            "style": "IPY_MODEL_2b7465dc211241338299610dff5e349b",
            "value": ""
          }
        },
        "c2a68cb2fffa4ed09f21e77ffde66ed9": {
          "model_module": "@jupyter-widgets/base",
          "model_name": "LayoutModel",
          "model_module_version": "1.2.0",
          "state": {
            "_model_module": "@jupyter-widgets/base",
            "_model_module_version": "1.2.0",
            "_model_name": "LayoutModel",
            "_view_count": null,
            "_view_module": "@jupyter-widgets/base",
            "_view_module_version": "1.2.0",
            "_view_name": "LayoutView",
            "align_content": null,
            "align_items": null,
            "align_self": null,
            "border": null,
            "bottom": null,
            "display": null,
            "flex": null,
            "flex_flow": null,
            "grid_area": null,
            "grid_auto_columns": null,
            "grid_auto_flow": null,
            "grid_auto_rows": null,
            "grid_column": null,
            "grid_gap": null,
            "grid_row": null,
            "grid_template_areas": null,
            "grid_template_columns": null,
            "grid_template_rows": null,
            "height": null,
            "justify_content": null,
            "justify_items": null,
            "left": null,
            "margin": null,
            "max_height": null,
            "max_width": null,
            "min_height": null,
            "min_width": null,
            "object_fit": null,
            "object_position": null,
            "order": null,
            "overflow": null,
            "overflow_x": null,
            "overflow_y": null,
            "padding": null,
            "right": null,
            "top": null,
            "visibility": null,
            "width": null
          }
        },
        "c2b1bc1a03a84ea29d01cb00c7f2d953": {
          "model_module": "@jupyter-widgets/base",
          "model_name": "LayoutModel",
          "model_module_version": "1.2.0",
          "state": {
            "_model_module": "@jupyter-widgets/base",
            "_model_module_version": "1.2.0",
            "_model_name": "LayoutModel",
            "_view_count": null,
            "_view_module": "@jupyter-widgets/base",
            "_view_module_version": "1.2.0",
            "_view_name": "LayoutView",
            "align_content": null,
            "align_items": null,
            "align_self": null,
            "border": null,
            "bottom": null,
            "display": null,
            "flex": null,
            "flex_flow": null,
            "grid_area": null,
            "grid_auto_columns": null,
            "grid_auto_flow": null,
            "grid_auto_rows": null,
            "grid_column": null,
            "grid_gap": null,
            "grid_row": null,
            "grid_template_areas": null,
            "grid_template_columns": null,
            "grid_template_rows": null,
            "height": "53px",
            "justify_content": null,
            "justify_items": null,
            "left": null,
            "margin": null,
            "max_height": null,
            "max_width": null,
            "min_height": null,
            "min_width": null,
            "object_fit": null,
            "object_position": null,
            "order": null,
            "overflow": null,
            "overflow_x": null,
            "overflow_y": null,
            "padding": null,
            "right": null,
            "top": null,
            "visibility": null,
            "width": "150px"
          }
        },
        "389bb07ffdad4b34ac048353e9eaa7e3": {
          "model_module": "@jupyter-widgets/controls",
          "model_name": "ButtonStyleModel",
          "model_module_version": "1.5.0",
          "state": {
            "_model_module": "@jupyter-widgets/controls",
            "_model_module_version": "1.5.0",
            "_model_name": "ButtonStyleModel",
            "_view_count": null,
            "_view_module": "@jupyter-widgets/base",
            "_view_module_version": "1.2.0",
            "_view_name": "StyleView",
            "button_color": null,
            "font_weight": ""
          }
        },
        "6f2c9729874b4a8f96c4ac7bbd9985c9": {
          "model_module": "@jupyter-widgets/base",
          "model_name": "LayoutModel",
          "model_module_version": "1.2.0",
          "state": {
            "_model_module": "@jupyter-widgets/base",
            "_model_module_version": "1.2.0",
            "_model_name": "LayoutModel",
            "_view_count": null,
            "_view_module": "@jupyter-widgets/base",
            "_view_module_version": "1.2.0",
            "_view_name": "LayoutView",
            "align_content": null,
            "align_items": null,
            "align_self": null,
            "border": null,
            "bottom": null,
            "display": null,
            "flex": null,
            "flex_flow": null,
            "grid_area": null,
            "grid_auto_columns": null,
            "grid_auto_flow": null,
            "grid_auto_rows": null,
            "grid_column": null,
            "grid_gap": null,
            "grid_row": null,
            "grid_template_areas": null,
            "grid_template_columns": null,
            "grid_template_rows": null,
            "height": null,
            "justify_content": null,
            "justify_items": null,
            "left": null,
            "margin": null,
            "max_height": null,
            "max_width": null,
            "min_height": null,
            "min_width": null,
            "object_fit": null,
            "object_position": null,
            "order": null,
            "overflow": null,
            "overflow_x": null,
            "overflow_y": null,
            "padding": null,
            "right": null,
            "top": null,
            "visibility": null,
            "width": "100px"
          }
        },
        "412fcda1cae44a6da059571419507b1a": {
          "model_module": "@jupyter-widgets/controls",
          "model_name": "DescriptionStyleModel",
          "model_module_version": "1.5.0",
          "state": {
            "_model_module": "@jupyter-widgets/controls",
            "_model_module_version": "1.5.0",
            "_model_name": "DescriptionStyleModel",
            "_view_count": null,
            "_view_module": "@jupyter-widgets/base",
            "_view_module_version": "1.2.0",
            "_view_name": "StyleView",
            "description_width": ""
          }
        },
        "0ce30cd2c74345bda22892cb53e9f647": {
          "model_module": "@jupyter-widgets/base",
          "model_name": "LayoutModel",
          "model_module_version": "1.2.0",
          "state": {
            "_model_module": "@jupyter-widgets/base",
            "_model_module_version": "1.2.0",
            "_model_name": "LayoutModel",
            "_view_count": null,
            "_view_module": "@jupyter-widgets/base",
            "_view_module_version": "1.2.0",
            "_view_name": "LayoutView",
            "align_content": null,
            "align_items": null,
            "align_self": null,
            "border": null,
            "bottom": null,
            "display": null,
            "flex": null,
            "flex_flow": null,
            "grid_area": null,
            "grid_auto_columns": null,
            "grid_auto_flow": null,
            "grid_auto_rows": null,
            "grid_column": null,
            "grid_gap": null,
            "grid_row": null,
            "grid_template_areas": null,
            "grid_template_columns": null,
            "grid_template_rows": null,
            "height": "53px",
            "justify_content": null,
            "justify_items": null,
            "left": null,
            "margin": null,
            "max_height": null,
            "max_width": null,
            "min_height": null,
            "min_width": null,
            "object_fit": null,
            "object_position": null,
            "order": null,
            "overflow": null,
            "overflow_x": null,
            "overflow_y": null,
            "padding": null,
            "right": null,
            "top": null,
            "visibility": null,
            "width": "200px"
          }
        },
        "6138ae9b04b54f1abe6654a06ffe549f": {
          "model_module": "@jupyter-widgets/controls",
          "model_name": "ButtonStyleModel",
          "model_module_version": "1.5.0",
          "state": {
            "_model_module": "@jupyter-widgets/controls",
            "_model_module_version": "1.5.0",
            "_model_name": "ButtonStyleModel",
            "_view_count": null,
            "_view_module": "@jupyter-widgets/base",
            "_view_module_version": "1.2.0",
            "_view_name": "StyleView",
            "button_color": null,
            "font_weight": ""
          }
        },
        "776ae5390ef44cc59671fd5f7ba6b454": {
          "model_module": "@jupyter-widgets/base",
          "model_name": "LayoutModel",
          "model_module_version": "1.2.0",
          "state": {
            "_model_module": "@jupyter-widgets/base",
            "_model_module_version": "1.2.0",
            "_model_name": "LayoutModel",
            "_view_count": null,
            "_view_module": "@jupyter-widgets/base",
            "_view_module_version": "1.2.0",
            "_view_name": "LayoutView",
            "align_content": null,
            "align_items": null,
            "align_self": null,
            "border": null,
            "bottom": null,
            "display": null,
            "flex": null,
            "flex_flow": null,
            "grid_area": null,
            "grid_auto_columns": null,
            "grid_auto_flow": null,
            "grid_auto_rows": null,
            "grid_column": null,
            "grid_gap": null,
            "grid_row": null,
            "grid_template_areas": null,
            "grid_template_columns": null,
            "grid_template_rows": null,
            "height": "25px",
            "justify_content": null,
            "justify_items": null,
            "left": null,
            "margin": null,
            "max_height": null,
            "max_width": null,
            "min_height": null,
            "min_width": null,
            "object_fit": null,
            "object_position": null,
            "order": null,
            "overflow": null,
            "overflow_x": null,
            "overflow_y": null,
            "padding": null,
            "right": null,
            "top": null,
            "visibility": null,
            "width": "300px"
          }
        },
        "c74d95b651974043b2451a6b5b2d27f5": {
          "model_module": "@jupyter-widgets/controls",
          "model_name": "DescriptionStyleModel",
          "model_module_version": "1.5.0",
          "state": {
            "_model_module": "@jupyter-widgets/controls",
            "_model_module_version": "1.5.0",
            "_model_name": "DescriptionStyleModel",
            "_view_count": null,
            "_view_module": "@jupyter-widgets/base",
            "_view_module_version": "1.2.0",
            "_view_name": "StyleView",
            "description_width": ""
          }
        },
        "d1d20137f54f4e18a2f798c17cce98be": {
          "model_module": "@jupyter-widgets/base",
          "model_name": "LayoutModel",
          "model_module_version": "1.2.0",
          "state": {
            "_model_module": "@jupyter-widgets/base",
            "_model_module_version": "1.2.0",
            "_model_name": "LayoutModel",
            "_view_count": null,
            "_view_module": "@jupyter-widgets/base",
            "_view_module_version": "1.2.0",
            "_view_name": "LayoutView",
            "align_content": null,
            "align_items": null,
            "align_self": null,
            "border": null,
            "bottom": null,
            "display": null,
            "flex": null,
            "flex_flow": null,
            "grid_area": null,
            "grid_auto_columns": null,
            "grid_auto_flow": null,
            "grid_auto_rows": null,
            "grid_column": null,
            "grid_gap": null,
            "grid_row": null,
            "grid_template_areas": null,
            "grid_template_columns": null,
            "grid_template_rows": null,
            "height": "24px",
            "justify_content": null,
            "justify_items": null,
            "left": null,
            "margin": null,
            "max_height": null,
            "max_width": null,
            "min_height": null,
            "min_width": null,
            "object_fit": null,
            "object_position": null,
            "order": null,
            "overflow": null,
            "overflow_x": null,
            "overflow_y": null,
            "padding": null,
            "right": null,
            "top": null,
            "visibility": null,
            "width": "300px"
          }
        },
        "2b7465dc211241338299610dff5e349b": {
          "model_module": "@jupyter-widgets/controls",
          "model_name": "DescriptionStyleModel",
          "model_module_version": "1.5.0",
          "state": {
            "_model_module": "@jupyter-widgets/controls",
            "_model_module_version": "1.5.0",
            "_model_name": "DescriptionStyleModel",
            "_view_count": null,
            "_view_module": "@jupyter-widgets/base",
            "_view_module_version": "1.2.0",
            "_view_name": "StyleView",
            "description_width": ""
          }
        }
      }
    }
  },
  "nbformat": 4,
  "nbformat_minor": 0
}